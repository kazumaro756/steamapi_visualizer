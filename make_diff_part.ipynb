{
 "cells": [
  {
   "cell_type": "markdown",
   "metadata": {},
   "source": [
    "## ２つのCSVから差異を決める\n"
   ]
  },
  {
   "cell_type": "code",
   "execution_count": 5,
   "metadata": {},
   "outputs": [],
   "source": [
    "import requests\n",
    "import json\n",
    "import pandas as pd\n",
    "import boto3\n",
    "from datetime import datetime, date, timedelta\n",
    "import os\n",
    "from io import StringIO\n",
    "\n",
    "\n",
    "# APIのひな型\n",
    "api_key = os.environ['steamapikey']\n",
    "user_key = os.environ['steamuserkey']\n",
    "url= \"http://api.steampowered.com/IPlayerService/GetOwnedGames/v0001/?key={}&steamid={}&format=json&include_appinfo=1\".format(api_key,user_key)\n",
    "\n",
    "\n",
    "# S3のクレデンシャル情報は環境設定で指定。\n",
    "S3_accesskey = os.environ['s3accesskey']\n",
    "S3_secretkey = os.environ['s3secretkey']\n",
    "\n",
    "\n",
    "# S3のバケットを指定\n",
    "Bucket_profile = 'buc-steamapi'"
   ]
  },
  {
   "cell_type": "code",
   "execution_count": 15,
   "metadata": {},
   "outputs": [],
   "source": [
    "def get_csv_from_s3_as_pd_dataframe(s3_file_key):\n",
    "    s3 = boto3.client('s3',\n",
    "                      aws_access_key_id=S3_accesskey,\n",
    "                      aws_secret_access_key=S3_secretkey,\n",
    "                      region_name='ap-northeast-1')\n",
    "\n",
    "    obj = s3.get_object(Bucket=Bucket_profile, Key=s3_file_key)\n",
    "\n",
    "    body = obj['Body']\n",
    "\n",
    "    csv_string = body.read().decode('utf-8')\n",
    "\n",
    "    return pd.read_csv(StringIO(csv_string))"
   ]
  },
  {
   "cell_type": "code",
   "execution_count": 16,
   "metadata": {},
   "outputs": [
    {
     "name": "stdout",
     "output_type": "stream",
     "text": [
      "2019-05-24\n",
      "tomorrow -> 2019-05-25\n",
      "yesterday -> 2019-05-23\n"
     ]
    },
    {
     "data": {
      "text/plain": [
       "'2019-05-23'"
      ]
     },
     "execution_count": 16,
     "metadata": {},
     "output_type": "execute_result"
    }
   ],
   "source": [
    "today = datetime.today()\n",
    "print(datetime.strftime(today, '%Y-%m-%d'))\n",
    "\n",
    "tomorrow = today + timedelta(days=1)\n",
    "yesterday = today - timedelta(days=1)\n",
    "\n",
    "print(\"tomorrow -> \" + datetime.strftime(tomorrow, '%Y-%m-%d'))\n",
    "print(\"yesterday -> \" + datetime.strftime(yesterday, '%Y-%m-%d'))\n",
    "\n",
    "\n",
    "datetime.strftime(yesterday, '%Y-%m-%d')"
   ]
  },
  {
   "cell_type": "code",
   "execution_count": 17,
   "metadata": {},
   "outputs": [],
   "source": [
    "df_today = get_csv_from_s3_as_pd_dataframe('dailydata/df_{}.csv'.format(datetime.strftime(today, '%Y-%m-%d')))\n",
    "df_today = df_today[[\"appid\",\"name\",\"playtime_forever\",\"day\"]]"
   ]
  },
  {
   "cell_type": "code",
   "execution_count": 29,
   "metadata": {},
   "outputs": [],
   "source": [
    "df_yesterday = get_csv_from_s3_as_pd_dataframe('dailydata/df_{}.csv'.format(datetime.strftime(yesterday, '%Y-%m-%d')))\n",
    "df_yesterday= df_yesterday[[\"appid\",\"name\",\"playtime_forever\",\"day\"]]"
   ]
  },
  {
   "cell_type": "code",
   "execution_count": 39,
   "metadata": {},
   "outputs": [],
   "source": [
    "df_twodays = df_today.merge(df_yesterday , how=\"left\", left_on=\"appid\",right_on = \"appid\",suffixes=('', '_y'))\n",
    "df_twodays[\"playtime_daily\"] = df_twodays[\"playtime_forever\"] - df_twodays[\"playtime_forever_y\"]"
   ]
  },
  {
   "cell_type": "code",
   "execution_count": 42,
   "metadata": {},
   "outputs": [],
   "source": [
    "df_lomited_twodays = df_twodays[df_twodays[\"playtime_forever\"] != df_twodays[\"playtime_forever_y\"]]"
   ]
  },
  {
   "cell_type": "code",
   "execution_count": 49,
   "metadata": {},
   "outputs": [],
   "source": [
    "df_lomited_twodays = df_lomited_twodays[[\"appid\",\"name\",\"day\",\"playtime_daily\"]]"
   ]
  },
  {
   "cell_type": "code",
   "execution_count": 53,
   "metadata": {},
   "outputs": [],
   "source": [
    "def  upload_df_to_s3_as_csv(df):\n",
    "    s3 = boto3.resource('s3',\n",
    "                      aws_access_key_id=S3_accesskey,\n",
    "                      aws_secret_access_key=S3_secretkey,\n",
    "                      region_name='ap-northeast-1')\n",
    "\n",
    "    \n",
    "    csv_buffer = StringIO()\n",
    "    df.to_csv(csv_buffer,index=False)\n",
    "    s3.Object(Bucket_profile, 'processed_data/df_daily.csv').put(Body=csv_buffer.getvalue())"
   ]
  },
  {
   "cell_type": "code",
   "execution_count": 55,
   "metadata": {},
   "outputs": [],
   "source": [
    "upload_df_to_s3_as_csv(df_lomited_twodays)"
   ]
  },
  {
   "cell_type": "code",
   "execution_count": null,
   "metadata": {},
   "outputs": [],
   "source": []
  }
 ],
 "metadata": {
  "kernelspec": {
   "display_name": "Python 3",
   "language": "python",
   "name": "python3"
  },
  "language_info": {
   "codemirror_mode": {
    "name": "ipython",
    "version": 3
   },
   "file_extension": ".py",
   "mimetype": "text/x-python",
   "name": "python",
   "nbconvert_exporter": "python",
   "pygments_lexer": "ipython3",
   "version": "3.7.3"
  }
 },
 "nbformat": 4,
 "nbformat_minor": 2
}
