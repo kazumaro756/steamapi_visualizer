{
 "cells": [
  {
   "cell_type": "markdown",
   "metadata": {},
   "source": [
    "## API情報を取得\n",
    "\n",
    "\n",
    "\n"
   ]
  },
  {
   "cell_type": "code",
   "execution_count": 1,
   "metadata": {},
   "outputs": [],
   "source": [
    "import requests\n",
    "import json\n",
    "import pandas as pd\n",
    "import boto3\n",
    "import datetime\n",
    "import os\n",
    "from io import StringIO\n",
    "\n",
    "\n",
    "# APIのひな型\n",
    "api_key = os.environ['steamapikey']\n",
    "user_key = os.environ['steamuserkey']\n",
    "url= \"http://api.steampowered.com/IPlayerService/GetOwnedGames/v0001/?key={}&steamid={}&format=json&include_appinfo=1\".format(api_key,user_key)\n",
    "\n",
    "\n",
    "# S3のクレデンシャル情報は環境設定で指定。\n",
    "S3_accesskey = os.environ['s3accesskey']\n",
    "S3_secretkey = os.environ['s3secretkey']\n",
    "\n",
    "\n",
    "# S3のバケットを指定\n",
    "Bucket_profile = 'buc-steamapi'\n",
    "\n"
   ]
  },
  {
   "cell_type": "code",
   "execution_count": 2,
   "metadata": {},
   "outputs": [],
   "source": [
    "r = requests.get(url)\n",
    "# 結果はJSON形式なのでデコードする\n",
    "data = json.loads(r.text) \n",
    "\n",
    "\n",
    "df = pd.DataFrame(data['response']['games'])  \n",
    "\n",
    "df = df[[\"appid\",\"name\",\"playtime_forever\"]]\n",
    "\n",
    "df[\"day\"] = datetime.date.today()"
   ]
  },
  {
   "cell_type": "code",
   "execution_count": 3,
   "metadata": {},
   "outputs": [
    {
     "data": {
      "text/html": [
       "<div>\n",
       "<style scoped>\n",
       "    .dataframe tbody tr th:only-of-type {\n",
       "        vertical-align: middle;\n",
       "    }\n",
       "\n",
       "    .dataframe tbody tr th {\n",
       "        vertical-align: top;\n",
       "    }\n",
       "\n",
       "    .dataframe thead th {\n",
       "        text-align: right;\n",
       "    }\n",
       "</style>\n",
       "<table border=\"1\" class=\"dataframe\">\n",
       "  <thead>\n",
       "    <tr style=\"text-align: right;\">\n",
       "      <th></th>\n",
       "      <th>appid</th>\n",
       "      <th>name</th>\n",
       "      <th>playtime_forever</th>\n",
       "      <th>day</th>\n",
       "    </tr>\n",
       "  </thead>\n",
       "  <tbody>\n",
       "    <tr>\n",
       "      <th>0</th>\n",
       "      <td>70</td>\n",
       "      <td>Half-Life</td>\n",
       "      <td>2</td>\n",
       "      <td>2019-05-23</td>\n",
       "    </tr>\n",
       "    <tr>\n",
       "      <th>1</th>\n",
       "      <td>220</td>\n",
       "      <td>Half-Life 2</td>\n",
       "      <td>1</td>\n",
       "      <td>2019-05-23</td>\n",
       "    </tr>\n",
       "    <tr>\n",
       "      <th>2</th>\n",
       "      <td>340</td>\n",
       "      <td>Half-Life 2: Lost Coast</td>\n",
       "      <td>0</td>\n",
       "      <td>2019-05-23</td>\n",
       "    </tr>\n",
       "    <tr>\n",
       "      <th>3</th>\n",
       "      <td>320</td>\n",
       "      <td>Half-Life 2: Deathmatch</td>\n",
       "      <td>0</td>\n",
       "      <td>2019-05-23</td>\n",
       "    </tr>\n",
       "    <tr>\n",
       "      <th>4</th>\n",
       "      <td>360</td>\n",
       "      <td>Half-Life Deathmatch: Source</td>\n",
       "      <td>0</td>\n",
       "      <td>2019-05-23</td>\n",
       "    </tr>\n",
       "  </tbody>\n",
       "</table>\n",
       "</div>"
      ],
      "text/plain": [
       "   appid                          name  playtime_forever         day\n",
       "0     70                     Half-Life                 2  2019-05-23\n",
       "1    220                   Half-Life 2                 1  2019-05-23\n",
       "2    340       Half-Life 2: Lost Coast                 0  2019-05-23\n",
       "3    320       Half-Life 2: Deathmatch                 0  2019-05-23\n",
       "4    360  Half-Life Deathmatch: Source                 0  2019-05-23"
      ]
     },
     "execution_count": 3,
     "metadata": {},
     "output_type": "execute_result"
    }
   ],
   "source": [
    "df.head()"
   ]
  },
  {
   "cell_type": "code",
   "execution_count": 4,
   "metadata": {},
   "outputs": [],
   "source": [
    "def  upload_df_to_s3_as_csv(df):\n",
    "    s3 = boto3.resource('s3',\n",
    "                      aws_access_key_id=S3_accesskey,\n",
    "                      aws_secret_access_key=S3_secretkey,\n",
    "                      region_name='ap-northeast-1')\n",
    "\n",
    "    \n",
    "    csv_buffer = StringIO()\n",
    "    df.to_csv(csv_buffer)\n",
    "    s3.Object(Bucket_profile, 'dailydata/df_{}.csv'.format(datetime.date.today())).put(Body=csv_buffer.getvalue())\n",
    "    "
   ]
  },
  {
   "cell_type": "code",
   "execution_count": 5,
   "metadata": {},
   "outputs": [],
   "source": [
    "upload_df_to_s3_as_csv(df)"
   ]
  },
  {
   "cell_type": "code",
   "execution_count": null,
   "metadata": {},
   "outputs": [],
   "source": []
  }
 ],
 "metadata": {
  "kernelspec": {
   "display_name": "Python 3",
   "language": "python",
   "name": "python3"
  },
  "language_info": {
   "codemirror_mode": {
    "name": "ipython",
    "version": 3
   },
   "file_extension": ".py",
   "mimetype": "text/x-python",
   "name": "python",
   "nbconvert_exporter": "python",
   "pygments_lexer": "ipython3",
   "version": "3.7.3"
  }
 },
 "nbformat": 4,
 "nbformat_minor": 2
}
