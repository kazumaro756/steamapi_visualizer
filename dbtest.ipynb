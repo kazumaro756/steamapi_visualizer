{
 "cells": [
  {
   "cell_type": "code",
   "execution_count": 23,
   "metadata": {},
   "outputs": [],
   "source": [
    "from sqlalchemy import create_engine, Column, Integer, String\n",
    "from sqlalchemy.ext.declarative import declarative_base\n",
    "from sqlalchemy.orm import sessionmaker\n",
    "from sqlalchemy.orm.exc import NoResultFound\n"
   ]
  },
  {
   "cell_type": "code",
   "execution_count": 24,
   "metadata": {},
   "outputs": [],
   "source": [
    "\n",
    "# SQLite 使用時\n",
    "# SQLite - File（通常のファイル保存）\n",
    "engine = create_engine('sqlite:///sample_db.sqlite3')  # スラッシュは3本\n",
    "\n"
   ]
  },
  {
   "cell_type": "code",
   "execution_count": 25,
   "metadata": {},
   "outputs": [],
   "source": [
    "# モデルの作成\n",
    "# 説明のためファイル内に定義しますが、実際は別ファイル化して import します。\n",
    "\n",
    "# まずベースモデルを生成します\n",
    "Base = declarative_base()\n",
    "\n",
    "\n",
    "# 次にベースモデルを継承してモデルクラスを定義します\n",
    "class Student(Base):\n",
    "    \"\"\"\n",
    "    生徒モデル\n",
    "    必ず Base を継承\n",
    "    \"\"\"\n",
    "    __tablename__ = 'students'\n",
    "\n",
    "    id = Column(Integer, primary_key=True)\n",
    "    name = Column(String(255))\n",
    "    score = Column(Integer)  # 点数\n",
    "\n",
    "    def __repr__(self):\n",
    "        return \"<Student(id='%s', name='%s', score='%s')>\" % (self.id, self.name, self.score)\n",
    "\n",
    "\n",
    "# テーブルの作成\n",
    "# テーブルがない場合 CREATE TABLE 文が実行される\n",
    "Base.metadata.create_all(engine)  # 作成した engine を引数にすること"
   ]
  },
  {
   "cell_type": "code",
   "execution_count": 26,
   "metadata": {},
   "outputs": [],
   "source": [
    "\n",
    "# SQLAlchemy はセッションを介してクエリを実行する\n",
    "Session = sessionmaker(bind=engine)\n",
    "session = Session()"
   ]
  },
  {
   "cell_type": "code",
   "execution_count": 27,
   "metadata": {},
   "outputs": [
    {
     "name": "stdout",
     "output_type": "stream",
     "text": [
      "Yamada 73\n",
      "Watanabe 88\n",
      "Tanaka 65\n",
      "Yamada 73\n",
      "Watanabe 88\n",
      "Tanaka 65\n"
     ]
    }
   ],
   "source": [
    "# 全件取得\n",
    "result = session.query(Student).all()  # .all() は省略可\n",
    "for student in result:\n",
    "    print(student.name, student.score)\n",
    "    \"\"\"\n",
    "    Suzuki 70\n",
    "    Yamada 73\n",
    "    Watanabe 88\n",
    "    Tanaka 65\n",
    "    \"\"\"\n",
    "\n",
    "for student in session.query(Student):  # .all() を省略\n",
    "    print(student.name, student.score)\n",
    "    \"\"\"\n",
    "    Suzuki 70\n",
    "    Yamada 73\n",
    "    Watanabe 88\n",
    "    Tanaka 65\n",
    "    \"\"\""
   ]
  },
  {
   "cell_type": "code",
   "execution_count": null,
   "metadata": {},
   "outputs": [],
   "source": [
    "# 複数レコードの追加\n",
    "session.add_all([\n",
    "    Student(id=5, name='Yamada', score=73),\n",
    "    Student(id=7, name='Watanabe', score=88),\n",
    "    Student(id=10, name='Tanaka', score=65),\n",
    "])\n",
    "\n",
    "# コミット（データ追加を実行）\n",
    "session.commit()"
   ]
  },
  {
   "cell_type": "code",
   "execution_count": null,
   "metadata": {},
   "outputs": [],
   "source": []
  },
  {
   "cell_type": "code",
   "execution_count": null,
   "metadata": {},
   "outputs": [],
   "source": [
    "session.close()"
   ]
  },
  {
   "cell_type": "code",
   "execution_count": null,
   "metadata": {},
   "outputs": [],
   "source": []
  }
 ],
 "metadata": {
  "kernelspec": {
   "display_name": "Python 3",
   "language": "python",
   "name": "python3"
  },
  "language_info": {
   "codemirror_mode": {
    "name": "ipython",
    "version": 3
   },
   "file_extension": ".py",
   "mimetype": "text/x-python",
   "name": "python",
   "nbconvert_exporter": "python",
   "pygments_lexer": "ipython3",
   "version": "3.7.3"
  }
 },
 "nbformat": 4,
 "nbformat_minor": 2
}
